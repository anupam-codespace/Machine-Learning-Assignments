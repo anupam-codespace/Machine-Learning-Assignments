{
  "metadata": {
    "kernelspec": {
      "language": "python",
      "display_name": "Python 3",
      "name": "python3"
    },
    "language_info": {
      "name": "python",
      "version": "3.11.13",
      "mimetype": "text/x-python",
      "codemirror_mode": {
        "name": "ipython",
        "version": 3
      },
      "pygments_lexer": "ipython3",
      "nbconvert_exporter": "python",
      "file_extension": ".py"
    },
    "kaggle": {
      "accelerator": "none",
      "dataSources": [
        {
          "sourceId": 12864414,
          "sourceType": "datasetVersion",
          "datasetId": 8137262
        },
        {
          "sourceId": 3036086,
          "sourceType": "datasetVersion",
          "datasetId": 1859421
        }
      ],
      "dockerImageVersionId": 31089,
      "isInternetEnabled": true,
      "language": "python",
      "sourceType": "notebook",
      "isGpuEnabled": false
    },
    "colab": {
      "name": "Assignment2_HousePricePrediction.ipynb",
      "provenance": [],
      "include_colab_link": true
    }
  },
  "nbformat_minor": 0,
  "nbformat": 4,
  "cells": [
    {
      "cell_type": "markdown",
      "metadata": {
        "id": "view-in-github",
        "colab_type": "text"
      },
      "source": [
        "<a href=\"https://colab.research.google.com/github/anupam-codespace/Machine-Learning-Assignments/blob/main/Assignment2_HousePricePrediction.ipynb\" target=\"_parent\"><img src=\"https://colab.research.google.com/assets/colab-badge.svg\" alt=\"Open In Colab\"/></a>"
      ]
    },
    {
      "source": [
        "# IMPORTANT: RUN THIS CELL IN ORDER TO IMPORT YOUR KAGGLE DATA SOURCES,\n",
        "# THEN FEEL FREE TO DELETE THIS CELL.\n",
        "# NOTE: THIS NOTEBOOK ENVIRONMENT DIFFERS FROM KAGGLE'S PYTHON\n",
        "# ENVIRONMENT SO THERE MAY BE MISSING LIBRARIES USED BY YOUR\n",
        "# NOTEBOOK.\n",
        "import kagglehub\n",
        "yasserh_housing_prices_dataset_path = kagglehub.dataset_download('yasserh/housing-prices-dataset')\n",
        "anupamsaha002_housing_path = kagglehub.dataset_download('anupamsaha002/housing')\n",
        "\n",
        "print('Data source import complete.')\n"
      ],
      "metadata": {
        "id": "tQ67qtj_qx8L"
      },
      "cell_type": "code",
      "outputs": [],
      "execution_count": null
    },
    {
      "cell_type": "code",
      "source": [
        "import pandas as pd\n",
        "\n",
        "# Load dataset (path will work in Kaggle notebook after uploading dataset)\n",
        "df = pd.read_csv(\"/kaggle/input/housing/Housing.csv\")\n",
        "\n",
        "# Show first few rows\n",
        "df.head()\n"
      ],
      "metadata": {
        "trusted": true,
        "id": "clWOXnppqx8M"
      },
      "outputs": [],
      "execution_count": null
    },
    {
      "cell_type": "code",
      "source": [
        "X = df[['area']]  # Feature\n",
        "y = df['price']   # Target\n"
      ],
      "metadata": {
        "trusted": true,
        "id": "eWY8Mfgkqx8M"
      },
      "outputs": [],
      "execution_count": null
    },
    {
      "cell_type": "code",
      "source": [
        "from sklearn.linear_model import LinearRegression\n",
        "import matplotlib.pyplot as plt\n",
        "\n",
        "# Train model\n",
        "model = LinearRegression()\n",
        "model.fit(X, y)\n",
        "\n",
        "# Prediction\n",
        "y_pred = model.predict(X)\n",
        "\n",
        "# Plot actual vs predicted\n",
        "plt.scatter(X, y, color='blue', label=\"Actual Data\")\n",
        "plt.plot(X, y_pred, color='red', label=\"Predicted Line\")\n",
        "plt.xlabel(\"Area (Size)\")\n",
        "plt.ylabel(\"Price\")\n",
        "plt.legend()\n",
        "plt.show()\n"
      ],
      "metadata": {
        "trusted": true,
        "id": "ILCixYTEqx8N"
      },
      "outputs": [],
      "execution_count": null
    },
    {
      "cell_type": "code",
      "source": [
        "import tensorflow as tf\n",
        "from tensorflow import keras\n",
        "from tensorflow.keras import layers\n",
        "\n",
        "# Define a simple model\n",
        "model = keras.Sequential([\n",
        "    layers.Dense(1, input_shape=[1])\n",
        "])\n",
        "\n",
        "model.compile(optimizer='sgd', loss='mse', metrics=['mae'])\n",
        "\n",
        "# Train the model\n",
        "history = model.fit(X, y, epochs=100, verbose=0)\n"
      ],
      "metadata": {
        "trusted": true,
        "id": "cPtLF7iWqx8N"
      },
      "outputs": [],
      "execution_count": null
    },
    {
      "cell_type": "code",
      "source": [
        "# Importing libraries\n",
        "import numpy as np\n",
        "import pandas as pd\n",
        "import matplotlib.pyplot as plt\n",
        "from sklearn.model_selection import train_test_split\n",
        "from sklearn.linear_model import LinearRegression\n",
        "from sklearn.metrics import mean_squared_error, r2_score\n",
        "\n",
        "# Load dataset\n",
        "df = pd.read_csv(\"/kaggle/input/housing-prices-dataset/Housing.csv\")\n",
        "\n",
        "# Take a quick look at dataset\n",
        "print(df.head())\n",
        "print(df.info())\n",
        "\n",
        "# Let's assume we are predicting 'price' using 'area' (change column names as per dataset)\n",
        "X = df[['area']]   # Independent variable\n",
        "y = df['price']    # Dependent variable\n",
        "\n",
        "# Split dataset into training and testing\n",
        "X_train, X_test, y_train, y_test = train_test_split(X, y, test_size=0.2, random_state=42)\n",
        "\n",
        "# Build Linear Regression model\n",
        "model = LinearRegression()\n",
        "\n",
        "# Train the model\n",
        "model.fit(X_train, y_train)\n",
        "\n",
        "# Predict on test data\n",
        "y_pred = model.predict(X_test)\n",
        "\n",
        "# Evaluate performance\n",
        "mse = mean_squared_error(y_test, y_pred)\n",
        "r2 = r2_score(y_test, y_pred)\n",
        "\n",
        "print(\"Mean Squared Error:\", mse)\n",
        "print(\"R² Score:\", r2)\n",
        "\n",
        "# Plot actual vs predicted\n",
        "plt.scatter(X_test, y_test, color='blue', label=\"Actual\")\n",
        "plt.scatter(X_test, y_pred, color='red', label=\"Predicted\")\n",
        "plt.xlabel(\"Area\")\n",
        "plt.ylabel(\"Price\")\n",
        "plt.legend()\n",
        "plt.title(\"Linear Regression: Actual vs Predicted Housing Prices\")\n",
        "plt.show()\n",
        "\n",
        "# Simulating \"accuracy vs epoch\" (just to follow assignment requirement)\n",
        "# Normally for linear regression we don't train epoch by epoch,\n",
        "# so we'll mimic gradient descent manually to track loss.\n",
        "\n",
        "epochs = 50\n",
        "learning_rate = 0.00000001\n",
        "\n",
        "m = 0\n",
        "c = 0\n",
        "n = len(X_train)\n",
        "\n",
        "losses = []\n",
        "\n",
        "X_train_np = X_train.values.flatten()\n",
        "y_train_np = y_train.values.flatten()\n",
        "\n",
        "for epoch in range(epochs):\n",
        "    y_pred_np = m*X_train_np + c\n",
        "    error = y_pred_np - y_train_np\n",
        "\n",
        "    # gradients\n",
        "    dm = -(2/n) * sum(X_train_np * error)\n",
        "    dc = -(2/n) * sum(error)\n",
        "\n",
        "    # update parameters\n",
        "    m = m - learning_rate * dm\n",
        "    c = c - learning_rate * dc\n",
        "\n",
        "    # calculate loss (MSE)\n",
        "    loss = np.mean(error**2)\n",
        "    losses.append(loss)\n",
        "\n",
        "# Plot accuracy (1 - normalized loss) vs epoch\n",
        "accuracy = 1 - (losses / max(losses))\n",
        "plt.plot(range(epochs), accuracy, marker='o', color='green')\n",
        "plt.xlabel(\"Epochs\")\n",
        "plt.ylabel(\"Accuracy\")\n",
        "plt.title(\"Accuracy vs Epoch\")\n",
        "plt.show()\n"
      ],
      "metadata": {
        "trusted": true,
        "id": "dXce4mvxqx8N"
      },
      "outputs": [],
      "execution_count": null
    }
  ]
}