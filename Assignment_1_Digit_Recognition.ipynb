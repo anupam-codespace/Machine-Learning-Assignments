{
  "nbformat": 4,
  "nbformat_minor": 0,
  "metadata": {
    "colab": {
      "provenance": [],
      "authorship_tag": "ABX9TyNZtgnZm/5mOBwCcOSCFdOp",
      "include_colab_link": true
    },
    "kernelspec": {
      "name": "python3",
      "display_name": "Python 3"
    },
    "language_info": {
      "name": "python"
    }
  },
  "cells": [
    {
      "cell_type": "markdown",
      "metadata": {
        "id": "view-in-github",
        "colab_type": "text"
      },
      "source": [
        "<a href=\"https://colab.research.google.com/github/anupam-codespace/Machine-Learning-Assignments/blob/main/Assignment_1_Digit_Recognition.ipynb\" target=\"_parent\"><img src=\"https://colab.research.google.com/assets/colab-badge.svg\" alt=\"Open In Colab\"/></a>"
      ]
    },
    {
      "cell_type": "markdown",
      "source": [
        "**Assignment-01**\n",
        "Recognize a Digit using TensorFlow/pytorch."
      ],
      "metadata": {
        "id": "Ux3myer4VWEl"
      }
    },
    {
      "cell_type": "code",
      "source": [],
      "metadata": {
        "id": "um60YgW-WDpH"
      },
      "execution_count": null,
      "outputs": []
    }
  ]
}