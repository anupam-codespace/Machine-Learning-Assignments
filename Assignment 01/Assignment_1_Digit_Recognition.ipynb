{
  "nbformat": 4,
  "nbformat_minor": 0,
  "metadata": {
    "colab": {
      "provenance": [],
      "authorship_tag": "ABX9TyMu0VPII5rPeYReo2xoQfGe",
      "include_colab_link": true
    },
    "kernelspec": {
      "name": "python3",
      "display_name": "Python 3"
    },
    "language_info": {
      "name": "python"
    }
  },
  "cells": [
    {
      "cell_type": "markdown",
      "metadata": {
        "id": "view-in-github",
        "colab_type": "text"
      },
      "source": [
        "<a href=\"https://colab.research.google.com/github/anupam-codespace/Machine-Learning-Assignments/blob/main/Assignment_1_Digit_Recognition.ipynb\" target=\"_parent\"><img src=\"https://colab.research.google.com/assets/colab-badge.svg\" alt=\"Open In Colab\"/></a>"
      ]
    },
    {
      "cell_type": "markdown",
      "source": [
        "**Assignment-01**\n",
        "Recognize a digit using TensorFlow/PyTorch."
      ],
      "metadata": {
        "id": "Ux3myer4VWEl"
      }
    },
    {
      "cell_type": "code",
      "source": [
        "import tensorflow as tf\n",
        "from tensorflow.keras.datasets import mnist\n",
        "from tensorflow.keras.models import Sequential\n",
        "from tensorflow.keras.layers import Conv2D, MaxPooling2D, Flatten, Dense, Dropout\n",
        "from tensorflow.keras.utils import to_categorical\n",
        "import matplotlib.pyplot as plt"
      ],
      "metadata": {
        "id": "um60YgW-WDpH"
      },
      "execution_count": null,
      "outputs": []
    },
    {
      "cell_type": "markdown",
      "source": [
        "01. **import tensorflow as tf** – Main deep learning framework.\n",
        "02. **mnist** – Loads handwritten digit dataset.\n",
        "03. **Sequential** – Builds models layer-by-layer.\n",
        "04. **Conv2D** – Extracts image features.\n",
        "05. **MaxPooling2D** – Reduces size & overfitting.\n",
        "06. **Flatten** – Converts 2D to 1D.\n",
        "07. **Dense** – Fully connected layer for output.\n",
        "08. **Dropout** – Prevents overfitting.\n",
        "09. **to_categorical** – Converts labels to one-hot format.\n",
        "10. **plt** – For plotting graphs/visualizations."
      ],
      "metadata": {
        "id": "74PNxBZkcJrG"
      }
    },
    {
      "cell_type": "code",
      "source": [
        "(x_train, y_train), (x_test, y_test) = mnist.load_data()"
      ],
      "metadata": {
        "colab": {
          "base_uri": "https://localhost:8080/"
        },
        "id": "SVRbPxuJasmW",
        "outputId": "5b1287e7-137f-4703-b18f-4d31ccc7eda4"
      },
      "execution_count": null,
      "outputs": [
        {
          "output_type": "stream",
          "name": "stdout",
          "text": [
            "Downloading data from https://storage.googleapis.com/tensorflow/tf-keras-datasets/mnist.npz\n",
            "\u001b[1m11490434/11490434\u001b[0m \u001b[32m━━━━━━━━━━━━━━━━━━━━\u001b[0m\u001b[37m\u001b[0m \u001b[1m0s\u001b[0m 0us/step\n"
          ]
        }
      ]
    },
    {
      "cell_type": "markdown",
      "source": [
        "Loads the ***MNIST dataset*** from **Keras**.\n",
        "\n",
        "Splits it into training data *(x_train, y_train)* and testing data *(x_test, y_test)*."
      ],
      "metadata": {
        "id": "PVZNnrJucr9y"
      }
    },
    {
      "cell_type": "code",
      "source": [
        "x_train = x_train / 255.0\n",
        "x_test = x_test / 255.0"
      ],
      "metadata": {
        "id": "QNSZBL-2atWB"
      },
      "execution_count": null,
      "outputs": []
    },
    {
      "cell_type": "markdown",
      "source": [
        "Purpose: Normalizes ***pixel values from 0–255 to 0–1***.\n",
        "\n",
        "Why: Makes training faster, improves accuracy, and helps the model converge smoothly."
      ],
      "metadata": {
        "id": "peihWhJ2c6PC"
      }
    },
    {
      "cell_type": "code",
      "source": [
        "x_train = x_train.reshape(-1, 28, 28, 1)\n",
        "x_test = x_test.reshape(-1, 28, 28, 1)"
      ],
      "metadata": {
        "id": "Y6mxcXekawaL"
      },
      "execution_count": null,
      "outputs": []
    },
    {
      "cell_type": "markdown",
      "source": [
        "01. Reshapes images to **(number_of_samples, height, width, channels)**format.\n",
        "02. -1 automatically adjusts the number of samples.\n",
        "03. 1 is the channel for grayscale images (*RGB would have 3*).\n",
        "04. Needed so CNN layers know the correct image shape.\n"
      ],
      "metadata": {
        "id": "KZb345m2dO6g"
      }
    },
    {
      "cell_type": "code",
      "source": [
        "y_train = to_categorical(y_train, 10)\n",
        "y_test = to_categorical(y_test, 10)"
      ],
      "metadata": {
        "id": "EWg1tPYxazzJ"
      },
      "execution_count": null,
      "outputs": []
    },
    {
      "cell_type": "markdown",
      "source": [
        "01. **y_train = to_categorical(y_train, 10)**\n",
        "Converts training labels into one-hot vectors of length 10 (digits 0–9).\n",
        "02. **y_test = to_categorical(y_test, 10)**\n",
        "Does the same for test labels, preparing them for multi-class classification."
      ],
      "metadata": {
        "id": "1oiV0DVtdpw9"
      }
    },
    {
      "cell_type": "code",
      "source": [
        "model = Sequential()\n",
        "model.add(Conv2D(32, (3, 3), activation='relu', input_shape=(28, 28, 1)))\n",
        "model.add(MaxPooling2D((2, 2)))\n",
        "model.add(Conv2D(64, (3, 3), activation='relu'))\n",
        "model.add(MaxPooling2D((2, 2)))\n",
        "model.add(Flatten())\n",
        "model.add(Dense(128, activation='relu'))\n",
        "model.add(Dropout(0.3))\n",
        "model.add(Dense(10, activation='softmax'))"
      ],
      "metadata": {
        "colab": {
          "base_uri": "https://localhost:8080/"
        },
        "id": "GQp1DsP4a6QD",
        "outputId": "7716bbf8-280d-4444-8a6d-7e9b69054711"
      },
      "execution_count": null,
      "outputs": [
        {
          "output_type": "stream",
          "name": "stderr",
          "text": [
            "/usr/local/lib/python3.11/dist-packages/keras/src/layers/convolutional/base_conv.py:113: UserWarning: Do not pass an `input_shape`/`input_dim` argument to a layer. When using Sequential models, prefer using an `Input(shape)` object as the first layer in the model instead.\n",
            "  super().__init__(activity_regularizer=activity_regularizer, **kwargs)\n"
          ]
        }
      ]
    },
    {
      "cell_type": "markdown",
      "source": [
        "01. **Model = Sequential()** – Creates a simple sequential model (layers stacked in order).\n",
        "02. **Conv2D(32, (3, 3), activation='relu', input_shape=(28, 28, 1))**– First convolution layer with 32 filters, detects image features; relu adds non-linearity; input is 28×28 grayscale.\n",
        "03. **MaxPooling2D((2, 2))**– Reduces image size by half to speed up training.\n",
        "04. **Conv2D(64, (3, 3), activation='relu')** – Second convolution layer with 64 filters for deeper feature extraction.\n",
        "05.**MaxPooling2D((2, 2))**– Again reduces size to focus on key features.\n",
        "06. **Flatten()** – Turns 2D feature maps into a 1D vector for dense layers.\n",
        "07. **Dense(128, activation='relu')** – Fully connected layer with 128 neurons for learning complex patterns.\n",
        "08. **Dropout(0.3)** – Drops 30% neurons randomly to prevent overfitting.\n",
        "09. **Dense(10, activation='softmax')**– Output layer with 10 neurons (digits 0–9), softmax for probability scores."
      ],
      "metadata": {
        "id": "u3BAK9W7d91k"
      }
    },
    {
      "cell_type": "code",
      "source": [
        "model.compile(optimizer='adam', loss='categorical_crossentropy', metrics=['accuracy'])"
      ],
      "metadata": {
        "id": "z70Wa0d9bAN1"
      },
      "execution_count": null,
      "outputs": []
    },
    {
      "cell_type": "markdown",
      "source": [
        "01. **optimizer='adam'** → Uses Adam optimizer for fast and efficient training.\n",
        "\n",
        "02. **loss='categorical_crossentropy'** → Measures error for multi-class classification.\n",
        "\n",
        "03. **metrics=['accuracy']** → Tracks accuracy during training/testing."
      ],
      "metadata": {
        "id": "HptoqO_tew0W"
      }
    },
    {
      "cell_type": "code",
      "source": [
        "history = model.fit(x_train, y_train, epochs=5, batch_size=64, validation_data=(x_test, y_test))"
      ],
      "metadata": {
        "colab": {
          "base_uri": "https://localhost:8080/"
        },
        "id": "UoiJl8QhbM9L",
        "outputId": "c1b9bafc-0709-4d91-eca4-dedde57da666"
      },
      "execution_count": null,
      "outputs": [
        {
          "output_type": "stream",
          "name": "stdout",
          "text": [
            "Epoch 1/5\n",
            "\u001b[1m938/938\u001b[0m \u001b[32m━━━━━━━━━━━━━━━━━━━━\u001b[0m\u001b[37m\u001b[0m \u001b[1m48s\u001b[0m 50ms/step - accuracy: 0.8714 - loss: 0.4101 - val_accuracy: 0.9840 - val_loss: 0.0499\n",
            "Epoch 2/5\n",
            "\u001b[1m938/938\u001b[0m \u001b[32m━━━━━━━━━━━━━━━━━━━━\u001b[0m\u001b[37m\u001b[0m \u001b[1m81s\u001b[0m 48ms/step - accuracy: 0.9787 - loss: 0.0665 - val_accuracy: 0.9880 - val_loss: 0.0345\n",
            "Epoch 3/5\n",
            "\u001b[1m938/938\u001b[0m \u001b[32m━━━━━━━━━━━━━━━━━━━━\u001b[0m\u001b[37m\u001b[0m \u001b[1m82s\u001b[0m 48ms/step - accuracy: 0.9851 - loss: 0.0465 - val_accuracy: 0.9907 - val_loss: 0.0286\n",
            "Epoch 4/5\n",
            "\u001b[1m938/938\u001b[0m \u001b[32m━━━━━━━━━━━━━━━━━━━━\u001b[0m\u001b[37m\u001b[0m \u001b[1m47s\u001b[0m 51ms/step - accuracy: 0.9886 - loss: 0.0395 - val_accuracy: 0.9903 - val_loss: 0.0302\n",
            "Epoch 5/5\n",
            "\u001b[1m938/938\u001b[0m \u001b[32m━━━━━━━━━━━━━━━━━━━━\u001b[0m\u001b[37m\u001b[0m \u001b[1m79s\u001b[0m 48ms/step - accuracy: 0.9911 - loss: 0.0290 - val_accuracy: 0.9925 - val_loss: 0.0238\n"
          ]
        }
      ]
    },
    {
      "cell_type": "code",
      "source": [
        "test_loss, test_acc = model.evaluate(x_test, y_test)\n",
        "print(f\"Test Accuracy: {test_acc:.4f}\")"
      ],
      "metadata": {
        "colab": {
          "base_uri": "https://localhost:8080/"
        },
        "id": "tbSktxXYbPjT",
        "outputId": "1366b51d-3aab-4d2a-9d65-82fefb5eb29d"
      },
      "execution_count": null,
      "outputs": [
        {
          "output_type": "stream",
          "name": "stdout",
          "text": [
            "\u001b[1m313/313\u001b[0m \u001b[32m━━━━━━━━━━━━━━━━━━━━\u001b[0m\u001b[37m\u001b[0m \u001b[1m3s\u001b[0m 10ms/step - accuracy: 0.9906 - loss: 0.0298\n",
            "Test Accuracy: 0.9925\n"
          ]
        }
      ]
    },
    {
      "cell_type": "markdown",
      "source": [
        "01. *test_loss, test_acc = model.evaluate(x_test, y_test)* – Tests the trained model on unseen data to get the loss and accuracy.\n",
        "\n",
        "02. *print(f\"Test Accuracy: {test_acc:.4f}\")* – Displays the test accuracy, formatted to 4 decimal places."
      ],
      "metadata": {
        "id": "OMMUlPHxfC9A"
      }
    },
    {
      "cell_type": "code",
      "source": [
        "plt.plot(history.history['accuracy'], label='Train Accuracy')\n",
        "plt.plot(history.history['val_accuracy'], label='Test Accuracy')\n",
        "plt.xlabel('Epochs')\n",
        "plt.ylabel('Accuracy')\n",
        "plt.legend()\n",
        "plt.title('CNN Digit Recognition Performance')\n",
        "plt.show()"
      ],
      "metadata": {
        "colab": {
          "base_uri": "https://localhost:8080/",
          "height": 472
        },
        "id": "VSP1MDkpbSzZ",
        "outputId": "dcc15755-3e01-461a-d465-d716aeb0e786"
      },
      "execution_count": null,
      "outputs": [
        {
          "output_type": "display_data",
          "data": {
            "text/plain": [
              "<Figure size 640x480 with 1 Axes>"
            ],
            "image/png": "[encoded data removed]"
          },
          "metadata": {}
        }
      ]
    },
    {
      "cell_type": "markdown",
      "source": [
        "01. **plt.plot(...**) – Plots training (accuracy) and testing (val_accuracy) performance over epochs.\n",
        "\n",
        "02. **plt.xlabel() / plt.ylabel()** – Labels the X-axis (epochs) and Y-axis (accuracy).\n",
        "\n",
        "03. **plt.legend()** – Shows labels for each line in the plot.\n",
        "\n",
        "04. **plt.title()** – Sets the graph title.\n",
        "\n",
        "05. **plt.show()** – Displays the plot."
      ],
      "metadata": {
        "id": "zBugtrlAfYSE"
      }
    },
    {
      "cell_type": "markdown",
      "source": [
        "To read the **detailed documentation**: [click here🤝](https://docs.google.com/document/d/1yn_iTuoqq4Tn6nX2r2aioUAiaiKAdZJE_nYoRpIUrBw/edit?usp=sharing)"
      ],
      "metadata": {
        "id": "Nxxk5NhBf0DK"
      }
    }
  ]
}